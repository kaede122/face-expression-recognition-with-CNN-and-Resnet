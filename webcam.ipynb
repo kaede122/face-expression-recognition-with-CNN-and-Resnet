{
 "cells": [
  {
   "attachments": {},
   "cell_type": "markdown",
   "metadata": {},
   "source": [
    "Webcam"
   ]
  },
  {
   "cell_type": "code",
   "execution_count": 3,
   "metadata": {},
   "outputs": [],
   "source": [
    "import numpy as np\n",
    "import cv2\n",
    "from tensorflow.keras.models import load_model"
   ]
  },
  {
   "cell_type": "code",
   "execution_count": 6,
   "metadata": {},
   "outputs": [],
   "source": [
    "face_cascade = cv2.CascadeClassifier('haarcascade_frontalface_default.xml')\n",
    "loaded_model = load_model('model_weights_cnn.h5')"
   ]
  },
  {
   "cell_type": "code",
   "execution_count": 7,
   "metadata": {},
   "outputs": [
    {
     "name": "stdout",
     "output_type": "stream",
     "text": [
      "1/1 [==============================] - 2s 2s/step\n"
     ]
    }
   ],
   "source": [
    "cap = cv2.VideoCapture(0)\n",
    "import copy\n",
    "\n",
    "while True:\n",
    "    ret, frame = cap.read()\n",
    "    img = copy.deepcopy(frame)\n",
    "    gray = cv2.cvtColor(img, cv2.COLOR_BGR2GRAY)\n",
    "    faces = face_cascade.detectMultiScale(gray, 1.3, 5)\n",
    "    for (x,y,w,h) in faces:\n",
    "        fc = gray[y:y+h, x:x+w]\n",
    "        roi = cv2.resize(fc, (56,56))\n",
    "        pred = loaded_model.predict(roi[np.newaxis, :, :, np.newaxis])\n",
    "        text_idx=np.argmax(pred)\n",
    "        text_list = ['Happy', 'Sad']\n",
    "        if text_idx == 0:\n",
    "            text= text_list[0]\n",
    "        if text_idx == 1:\n",
    "            text= text_list[1]\n",
    "        cv2.putText(img, text, (x, y-5), cv2.FONT_HERSHEY_SIMPLEX, 0.45, (255, 0, 255), 2)\n",
    "        img = cv2.rectangle(img, (x,y), (x+w, y+h), (0,0,255), 2)\n",
    "            \n",
    "    \n",
    "    cv2.imshow(\"frame\", img)\n",
    "    key = cv2.waitKey(1) & 0xFF\n",
    "    if key== ord('q'):\n",
    "        break\n",
    "    \n",
    "cap.release()\n",
    "cv2.destroyAllWindows()\n"
   ]
  }
 ],
 "metadata": {
  "kernelspec": {
   "display_name": "tf",
   "language": "python",
   "name": "python3"
  },
  "language_info": {
   "codemirror_mode": {
    "name": "ipython",
    "version": 3
   },
   "file_extension": ".py",
   "mimetype": "text/x-python",
   "name": "python",
   "nbconvert_exporter": "python",
   "pygments_lexer": "ipython3",
   "version": "3.9.16"
  },
  "orig_nbformat": 4
 },
 "nbformat": 4,
 "nbformat_minor": 2
}
